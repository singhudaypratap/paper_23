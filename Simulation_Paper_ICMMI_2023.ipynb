{
  "cells": [
    {
      "cell_type": "markdown",
      "metadata": {
        "id": "view-in-github",
        "colab_type": "text"
      },
      "source": [
        "<a href=\"https://colab.research.google.com/github/singhudaypratap/paper_23/blob/main/Simulation_Paper_ICMMI_2023.ipynb\" target=\"_parent\"><img src=\"https://colab.research.google.com/assets/colab-badge.svg\" alt=\"Open In Colab\"/></a>"
      ]
    },
    {
      "cell_type": "code",
      "execution_count": 1,
      "metadata": {
        "id": "M3M54N-gGZam"
      },
      "outputs": [],
      "source": [
        "# data manipulation\n",
        "import pandas as pd\n",
        "import numpy as np\n",
        "\n",
        "# data viz\n",
        "import matplotlib.pyplot as plt\n",
        "from matplotlib import rcParams\n",
        "import seaborn as sns\n",
        "\n",
        "# apply some cool styling\n",
        "plt.style.use(\"ggplot\")\n",
        "rcParams['figure.figsize'] = (12,  6)"
      ]
    },
    {
      "cell_type": "code",
      "execution_count": 2,
      "metadata": {
        "id": "RMtE99aaJQ8q"
      },
      "outputs": [],
      "source": [
        "import datetime\n",
        "import math\n",
        "from sklearn.preprocessing import MinMaxScaler\n",
        "from tqdm import tqdm\n",
        "plt.style.use(\"fivethirtyeight\")\n"
      ]
    },
    {
      "cell_type": "code",
      "execution_count": 3,
      "metadata": {
        "id": "HyV_Fog_2vmh"
      },
      "outputs": [],
      "source": [
        "from keras.models import Sequential\n",
        "from keras.layers import Dense, LSTM, Flatten, Dropout"
      ]
    },
    {
      "cell_type": "code",
      "execution_count": 60,
      "metadata": {
        "id": "duVQIs5AG8C8"
      },
      "outputs": [],
      "source": [
        "from pandas.io.excel import read_excel\n",
        "import requests\n",
        "#url=\"https://github.com/singhudaypratap/paper_23/blob/main/PM2.5_Adarsh_Nagar_Jaipur.xlsx?raw=true\"\n",
        "url=\"https://github.com/singhudaypratap/paper_23/blob/main/PM2.5_Adarsh_Nagar_Jaipur_Hourly.xlsx?raw=true\"\n",
        "myfile = requests.get(url)\n",
        "df=pd.read_excel(myfile.content,index_col= None, header=None,skiprows=17)\n",
        "#df=read_excel(\"/content/drive/MyDrive/PM2.5_Shashtri_Nagar_Jaipur.xlsx\",index_col= None, header=None,skiprows=17)\n",
        "#/content/drive/MyDrive/PM2.5_Adarsh_Nagar_Jaipur.xlsx"
      ]
    },
    {
      "cell_type": "code",
      "execution_count": 6,
      "metadata": {
        "colab": {
          "base_uri": "https://localhost:8080/",
          "height": 677
        },
        "id": "ji7A1guyHfK7",
        "outputId": "62cd1853-510b-499b-9294-425fa5047eeb"
      },
      "outputs": [
        {
          "output_type": "execute_result",
          "data": {
            "text/plain": [
              "                   0                 1      2\n",
              "0   30-10-2017 00:00  30-10-2017 01:00  70.79\n",
              "1   30-10-2017 01:00  30-10-2017 02:00  69.96\n",
              "2   30-10-2017 02:00  30-10-2017 03:00  73.36\n",
              "3   30-10-2017 03:00  30-10-2017 04:00  75.97\n",
              "4   30-10-2017 04:00  30-10-2017 05:00  82.07\n",
              "5   30-10-2017 05:00  30-10-2017 06:00  76.99\n",
              "6   30-10-2017 06:00  30-10-2017 07:00  68.39\n",
              "7   30-10-2017 07:00  30-10-2017 08:00  61.33\n",
              "8   30-10-2017 08:00  30-10-2017 09:00  65.38\n",
              "9   30-10-2017 09:00  30-10-2017 10:00  65.69\n",
              "10  30-10-2017 10:00  30-10-2017 11:00  66.83\n",
              "11  30-10-2017 11:00  30-10-2017 12:00  67.76\n",
              "12  30-10-2017 12:00  30-10-2017 13:00  66.07\n",
              "13  30-10-2017 13:00  30-10-2017 14:00  67.62\n",
              "14  30-10-2017 14:00  30-10-2017 15:00  51.06\n",
              "15  30-10-2017 15:00  30-10-2017 16:00  37.49\n",
              "16  30-10-2017 16:00  30-10-2017 17:00  37.63\n",
              "17  30-10-2017 17:00  30-10-2017 18:00  53.15\n",
              "18  30-10-2017 18:00  30-10-2017 19:00  68.14\n",
              "19  30-10-2017 19:00  30-10-2017 20:00  74.58"
            ],
            "text/html": [
              "\n",
              "  <div id=\"df-259b2f46-a676-4cd9-b29d-6b1d90a84fc9\">\n",
              "    <div class=\"colab-df-container\">\n",
              "      <div>\n",
              "<style scoped>\n",
              "    .dataframe tbody tr th:only-of-type {\n",
              "        vertical-align: middle;\n",
              "    }\n",
              "\n",
              "    .dataframe tbody tr th {\n",
              "        vertical-align: top;\n",
              "    }\n",
              "\n",
              "    .dataframe thead th {\n",
              "        text-align: right;\n",
              "    }\n",
              "</style>\n",
              "<table border=\"1\" class=\"dataframe\">\n",
              "  <thead>\n",
              "    <tr style=\"text-align: right;\">\n",
              "      <th></th>\n",
              "      <th>0</th>\n",
              "      <th>1</th>\n",
              "      <th>2</th>\n",
              "    </tr>\n",
              "  </thead>\n",
              "  <tbody>\n",
              "    <tr>\n",
              "      <th>0</th>\n",
              "      <td>30-10-2017 00:00</td>\n",
              "      <td>30-10-2017 01:00</td>\n",
              "      <td>70.79</td>\n",
              "    </tr>\n",
              "    <tr>\n",
              "      <th>1</th>\n",
              "      <td>30-10-2017 01:00</td>\n",
              "      <td>30-10-2017 02:00</td>\n",
              "      <td>69.96</td>\n",
              "    </tr>\n",
              "    <tr>\n",
              "      <th>2</th>\n",
              "      <td>30-10-2017 02:00</td>\n",
              "      <td>30-10-2017 03:00</td>\n",
              "      <td>73.36</td>\n",
              "    </tr>\n",
              "    <tr>\n",
              "      <th>3</th>\n",
              "      <td>30-10-2017 03:00</td>\n",
              "      <td>30-10-2017 04:00</td>\n",
              "      <td>75.97</td>\n",
              "    </tr>\n",
              "    <tr>\n",
              "      <th>4</th>\n",
              "      <td>30-10-2017 04:00</td>\n",
              "      <td>30-10-2017 05:00</td>\n",
              "      <td>82.07</td>\n",
              "    </tr>\n",
              "    <tr>\n",
              "      <th>5</th>\n",
              "      <td>30-10-2017 05:00</td>\n",
              "      <td>30-10-2017 06:00</td>\n",
              "      <td>76.99</td>\n",
              "    </tr>\n",
              "    <tr>\n",
              "      <th>6</th>\n",
              "      <td>30-10-2017 06:00</td>\n",
              "      <td>30-10-2017 07:00</td>\n",
              "      <td>68.39</td>\n",
              "    </tr>\n",
              "    <tr>\n",
              "      <th>7</th>\n",
              "      <td>30-10-2017 07:00</td>\n",
              "      <td>30-10-2017 08:00</td>\n",
              "      <td>61.33</td>\n",
              "    </tr>\n",
              "    <tr>\n",
              "      <th>8</th>\n",
              "      <td>30-10-2017 08:00</td>\n",
              "      <td>30-10-2017 09:00</td>\n",
              "      <td>65.38</td>\n",
              "    </tr>\n",
              "    <tr>\n",
              "      <th>9</th>\n",
              "      <td>30-10-2017 09:00</td>\n",
              "      <td>30-10-2017 10:00</td>\n",
              "      <td>65.69</td>\n",
              "    </tr>\n",
              "    <tr>\n",
              "      <th>10</th>\n",
              "      <td>30-10-2017 10:00</td>\n",
              "      <td>30-10-2017 11:00</td>\n",
              "      <td>66.83</td>\n",
              "    </tr>\n",
              "    <tr>\n",
              "      <th>11</th>\n",
              "      <td>30-10-2017 11:00</td>\n",
              "      <td>30-10-2017 12:00</td>\n",
              "      <td>67.76</td>\n",
              "    </tr>\n",
              "    <tr>\n",
              "      <th>12</th>\n",
              "      <td>30-10-2017 12:00</td>\n",
              "      <td>30-10-2017 13:00</td>\n",
              "      <td>66.07</td>\n",
              "    </tr>\n",
              "    <tr>\n",
              "      <th>13</th>\n",
              "      <td>30-10-2017 13:00</td>\n",
              "      <td>30-10-2017 14:00</td>\n",
              "      <td>67.62</td>\n",
              "    </tr>\n",
              "    <tr>\n",
              "      <th>14</th>\n",
              "      <td>30-10-2017 14:00</td>\n",
              "      <td>30-10-2017 15:00</td>\n",
              "      <td>51.06</td>\n",
              "    </tr>\n",
              "    <tr>\n",
              "      <th>15</th>\n",
              "      <td>30-10-2017 15:00</td>\n",
              "      <td>30-10-2017 16:00</td>\n",
              "      <td>37.49</td>\n",
              "    </tr>\n",
              "    <tr>\n",
              "      <th>16</th>\n",
              "      <td>30-10-2017 16:00</td>\n",
              "      <td>30-10-2017 17:00</td>\n",
              "      <td>37.63</td>\n",
              "    </tr>\n",
              "    <tr>\n",
              "      <th>17</th>\n",
              "      <td>30-10-2017 17:00</td>\n",
              "      <td>30-10-2017 18:00</td>\n",
              "      <td>53.15</td>\n",
              "    </tr>\n",
              "    <tr>\n",
              "      <th>18</th>\n",
              "      <td>30-10-2017 18:00</td>\n",
              "      <td>30-10-2017 19:00</td>\n",
              "      <td>68.14</td>\n",
              "    </tr>\n",
              "    <tr>\n",
              "      <th>19</th>\n",
              "      <td>30-10-2017 19:00</td>\n",
              "      <td>30-10-2017 20:00</td>\n",
              "      <td>74.58</td>\n",
              "    </tr>\n",
              "  </tbody>\n",
              "</table>\n",
              "</div>\n",
              "      <button class=\"colab-df-convert\" onclick=\"convertToInteractive('df-259b2f46-a676-4cd9-b29d-6b1d90a84fc9')\"\n",
              "              title=\"Convert this dataframe to an interactive table.\"\n",
              "              style=\"display:none;\">\n",
              "        \n",
              "  <svg xmlns=\"http://www.w3.org/2000/svg\" height=\"24px\"viewBox=\"0 0 24 24\"\n",
              "       width=\"24px\">\n",
              "    <path d=\"M0 0h24v24H0V0z\" fill=\"none\"/>\n",
              "    <path d=\"M18.56 5.44l.94 2.06.94-2.06 2.06-.94-2.06-.94-.94-2.06-.94 2.06-2.06.94zm-11 1L8.5 8.5l.94-2.06 2.06-.94-2.06-.94L8.5 2.5l-.94 2.06-2.06.94zm10 10l.94 2.06.94-2.06 2.06-.94-2.06-.94-.94-2.06-.94 2.06-2.06.94z\"/><path d=\"M17.41 7.96l-1.37-1.37c-.4-.4-.92-.59-1.43-.59-.52 0-1.04.2-1.43.59L10.3 9.45l-7.72 7.72c-.78.78-.78 2.05 0 2.83L4 21.41c.39.39.9.59 1.41.59.51 0 1.02-.2 1.41-.59l7.78-7.78 2.81-2.81c.8-.78.8-2.07 0-2.86zM5.41 20L4 18.59l7.72-7.72 1.47 1.35L5.41 20z\"/>\n",
              "  </svg>\n",
              "      </button>\n",
              "      \n",
              "  <style>\n",
              "    .colab-df-container {\n",
              "      display:flex;\n",
              "      flex-wrap:wrap;\n",
              "      gap: 12px;\n",
              "    }\n",
              "\n",
              "    .colab-df-convert {\n",
              "      background-color: #E8F0FE;\n",
              "      border: none;\n",
              "      border-radius: 50%;\n",
              "      cursor: pointer;\n",
              "      display: none;\n",
              "      fill: #1967D2;\n",
              "      height: 32px;\n",
              "      padding: 0 0 0 0;\n",
              "      width: 32px;\n",
              "    }\n",
              "\n",
              "    .colab-df-convert:hover {\n",
              "      background-color: #E2EBFA;\n",
              "      box-shadow: 0px 1px 2px rgba(60, 64, 67, 0.3), 0px 1px 3px 1px rgba(60, 64, 67, 0.15);\n",
              "      fill: #174EA6;\n",
              "    }\n",
              "\n",
              "    [theme=dark] .colab-df-convert {\n",
              "      background-color: #3B4455;\n",
              "      fill: #D2E3FC;\n",
              "    }\n",
              "\n",
              "    [theme=dark] .colab-df-convert:hover {\n",
              "      background-color: #434B5C;\n",
              "      box-shadow: 0px 1px 3px 1px rgba(0, 0, 0, 0.15);\n",
              "      filter: drop-shadow(0px 1px 2px rgba(0, 0, 0, 0.3));\n",
              "      fill: #FFFFFF;\n",
              "    }\n",
              "  </style>\n",
              "\n",
              "      <script>\n",
              "        const buttonEl =\n",
              "          document.querySelector('#df-259b2f46-a676-4cd9-b29d-6b1d90a84fc9 button.colab-df-convert');\n",
              "        buttonEl.style.display =\n",
              "          google.colab.kernel.accessAllowed ? 'block' : 'none';\n",
              "\n",
              "        async function convertToInteractive(key) {\n",
              "          const element = document.querySelector('#df-259b2f46-a676-4cd9-b29d-6b1d90a84fc9');\n",
              "          const dataTable =\n",
              "            await google.colab.kernel.invokeFunction('convertToInteractive',\n",
              "                                                     [key], {});\n",
              "          if (!dataTable) return;\n",
              "\n",
              "          const docLinkHtml = 'Like what you see? Visit the ' +\n",
              "            '<a target=\"_blank\" href=https://colab.research.google.com/notebooks/data_table.ipynb>data table notebook</a>'\n",
              "            + ' to learn more about interactive tables.';\n",
              "          element.innerHTML = '';\n",
              "          dataTable['output_type'] = 'display_data';\n",
              "          await google.colab.output.renderOutput(dataTable, element);\n",
              "          const docLink = document.createElement('div');\n",
              "          docLink.innerHTML = docLinkHtml;\n",
              "          element.appendChild(docLink);\n",
              "        }\n",
              "      </script>\n",
              "    </div>\n",
              "  </div>\n",
              "  "
            ]
          },
          "metadata": {},
          "execution_count": 6
        }
      ],
      "source": [
        "df.head(20)"
      ]
    },
    {
      "cell_type": "code",
      "execution_count": 71,
      "metadata": {
        "colab": {
          "base_uri": "https://localhost:8080/",
          "height": 206
        },
        "id": "lGgzrOx8HiD3",
        "outputId": "35db4449-c9c7-48d6-8a52-94717bdfe53f"
      },
      "outputs": [
        {
          "output_type": "execute_result",
          "data": {
            "text/plain": [
              "              From_Date           To_Date  PM2.5\n",
              "46192  05-02-2023 16:00  05-02-2023 17:00  21.96\n",
              "46193  05-02-2023 17:00  05-02-2023 18:00  31.72\n",
              "46194  05-02-2023 18:00  05-02-2023 19:00  33.16\n",
              "46195  05-02-2023 19:00  05-02-2023 20:00  52.64\n",
              "46196  05-02-2023 20:00  05-02-2023 20:29  63.95"
            ],
            "text/html": [
              "\n",
              "  <div id=\"df-9655e39f-566e-4916-a03e-e5cc1e65da67\">\n",
              "    <div class=\"colab-df-container\">\n",
              "      <div>\n",
              "<style scoped>\n",
              "    .dataframe tbody tr th:only-of-type {\n",
              "        vertical-align: middle;\n",
              "    }\n",
              "\n",
              "    .dataframe tbody tr th {\n",
              "        vertical-align: top;\n",
              "    }\n",
              "\n",
              "    .dataframe thead th {\n",
              "        text-align: right;\n",
              "    }\n",
              "</style>\n",
              "<table border=\"1\" class=\"dataframe\">\n",
              "  <thead>\n",
              "    <tr style=\"text-align: right;\">\n",
              "      <th></th>\n",
              "      <th>From_Date</th>\n",
              "      <th>To_Date</th>\n",
              "      <th>PM2.5</th>\n",
              "    </tr>\n",
              "  </thead>\n",
              "  <tbody>\n",
              "    <tr>\n",
              "      <th>46192</th>\n",
              "      <td>05-02-2023 16:00</td>\n",
              "      <td>05-02-2023 17:00</td>\n",
              "      <td>21.96</td>\n",
              "    </tr>\n",
              "    <tr>\n",
              "      <th>46193</th>\n",
              "      <td>05-02-2023 17:00</td>\n",
              "      <td>05-02-2023 18:00</td>\n",
              "      <td>31.72</td>\n",
              "    </tr>\n",
              "    <tr>\n",
              "      <th>46194</th>\n",
              "      <td>05-02-2023 18:00</td>\n",
              "      <td>05-02-2023 19:00</td>\n",
              "      <td>33.16</td>\n",
              "    </tr>\n",
              "    <tr>\n",
              "      <th>46195</th>\n",
              "      <td>05-02-2023 19:00</td>\n",
              "      <td>05-02-2023 20:00</td>\n",
              "      <td>52.64</td>\n",
              "    </tr>\n",
              "    <tr>\n",
              "      <th>46196</th>\n",
              "      <td>05-02-2023 20:00</td>\n",
              "      <td>05-02-2023 20:29</td>\n",
              "      <td>63.95</td>\n",
              "    </tr>\n",
              "  </tbody>\n",
              "</table>\n",
              "</div>\n",
              "      <button class=\"colab-df-convert\" onclick=\"convertToInteractive('df-9655e39f-566e-4916-a03e-e5cc1e65da67')\"\n",
              "              title=\"Convert this dataframe to an interactive table.\"\n",
              "              style=\"display:none;\">\n",
              "        \n",
              "  <svg xmlns=\"http://www.w3.org/2000/svg\" height=\"24px\"viewBox=\"0 0 24 24\"\n",
              "       width=\"24px\">\n",
              "    <path d=\"M0 0h24v24H0V0z\" fill=\"none\"/>\n",
              "    <path d=\"M18.56 5.44l.94 2.06.94-2.06 2.06-.94-2.06-.94-.94-2.06-.94 2.06-2.06.94zm-11 1L8.5 8.5l.94-2.06 2.06-.94-2.06-.94L8.5 2.5l-.94 2.06-2.06.94zm10 10l.94 2.06.94-2.06 2.06-.94-2.06-.94-.94-2.06-.94 2.06-2.06.94z\"/><path d=\"M17.41 7.96l-1.37-1.37c-.4-.4-.92-.59-1.43-.59-.52 0-1.04.2-1.43.59L10.3 9.45l-7.72 7.72c-.78.78-.78 2.05 0 2.83L4 21.41c.39.39.9.59 1.41.59.51 0 1.02-.2 1.41-.59l7.78-7.78 2.81-2.81c.8-.78.8-2.07 0-2.86zM5.41 20L4 18.59l7.72-7.72 1.47 1.35L5.41 20z\"/>\n",
              "  </svg>\n",
              "      </button>\n",
              "      \n",
              "  <style>\n",
              "    .colab-df-container {\n",
              "      display:flex;\n",
              "      flex-wrap:wrap;\n",
              "      gap: 12px;\n",
              "    }\n",
              "\n",
              "    .colab-df-convert {\n",
              "      background-color: #E8F0FE;\n",
              "      border: none;\n",
              "      border-radius: 50%;\n",
              "      cursor: pointer;\n",
              "      display: none;\n",
              "      fill: #1967D2;\n",
              "      height: 32px;\n",
              "      padding: 0 0 0 0;\n",
              "      width: 32px;\n",
              "    }\n",
              "\n",
              "    .colab-df-convert:hover {\n",
              "      background-color: #E2EBFA;\n",
              "      box-shadow: 0px 1px 2px rgba(60, 64, 67, 0.3), 0px 1px 3px 1px rgba(60, 64, 67, 0.15);\n",
              "      fill: #174EA6;\n",
              "    }\n",
              "\n",
              "    [theme=dark] .colab-df-convert {\n",
              "      background-color: #3B4455;\n",
              "      fill: #D2E3FC;\n",
              "    }\n",
              "\n",
              "    [theme=dark] .colab-df-convert:hover {\n",
              "      background-color: #434B5C;\n",
              "      box-shadow: 0px 1px 3px 1px rgba(0, 0, 0, 0.15);\n",
              "      filter: drop-shadow(0px 1px 2px rgba(0, 0, 0, 0.3));\n",
              "      fill: #FFFFFF;\n",
              "    }\n",
              "  </style>\n",
              "\n",
              "      <script>\n",
              "        const buttonEl =\n",
              "          document.querySelector('#df-9655e39f-566e-4916-a03e-e5cc1e65da67 button.colab-df-convert');\n",
              "        buttonEl.style.display =\n",
              "          google.colab.kernel.accessAllowed ? 'block' : 'none';\n",
              "\n",
              "        async function convertToInteractive(key) {\n",
              "          const element = document.querySelector('#df-9655e39f-566e-4916-a03e-e5cc1e65da67');\n",
              "          const dataTable =\n",
              "            await google.colab.kernel.invokeFunction('convertToInteractive',\n",
              "                                                     [key], {});\n",
              "          if (!dataTable) return;\n",
              "\n",
              "          const docLinkHtml = 'Like what you see? Visit the ' +\n",
              "            '<a target=\"_blank\" href=https://colab.research.google.com/notebooks/data_table.ipynb>data table notebook</a>'\n",
              "            + ' to learn more about interactive tables.';\n",
              "          element.innerHTML = '';\n",
              "          dataTable['output_type'] = 'display_data';\n",
              "          await google.colab.output.renderOutput(dataTable, element);\n",
              "          const docLink = document.createElement('div');\n",
              "          docLink.innerHTML = docLinkHtml;\n",
              "          element.appendChild(docLink);\n",
              "        }\n",
              "      </script>\n",
              "    </div>\n",
              "  </div>\n",
              "  "
            ]
          },
          "metadata": {},
          "execution_count": 71
        }
      ],
      "source": [
        "PM25=df.copy()\n",
        "PM25.columns=['From_Date','To_Date','PM2.5']\n",
        "PM25.head()\n",
        "PM25.tail()\n"
      ]
    },
    {
      "cell_type": "code",
      "execution_count": 72,
      "metadata": {
        "colab": {
          "base_uri": "https://localhost:8080/"
        },
        "id": "ETy84_GHJsj6",
        "outputId": "68bf8ef8-56d5-4a08-d586-b059abb6f2e3"
      },
      "outputs": [
        {
          "output_type": "execute_result",
          "data": {
            "text/plain": [
              "(46197, 3)"
            ]
          },
          "metadata": {},
          "execution_count": 72
        }
      ],
      "source": [
        "PM25.shape"
      ]
    },
    {
      "cell_type": "code",
      "execution_count": 73,
      "metadata": {
        "colab": {
          "base_uri": "https://localhost:8080/",
          "height": 175
        },
        "id": "OiyMq0O3Jx3N",
        "outputId": "19175dad-e8b0-4a5b-b1c4-ced1e93d556f"
      },
      "outputs": [
        {
          "output_type": "execute_result",
          "data": {
            "text/plain": [
              "               From_Date           To_Date  PM2.5\n",
              "count              46197             46197  46197\n",
              "unique             46197             46197  11116\n",
              "top     30-10-2017 00:00  30-10-2017 01:00   None\n",
              "freq                   1                 1   1490"
            ],
            "text/html": [
              "\n",
              "  <div id=\"df-5af88e6b-7de7-4d3d-934b-54283f14e3f5\">\n",
              "    <div class=\"colab-df-container\">\n",
              "      <div>\n",
              "<style scoped>\n",
              "    .dataframe tbody tr th:only-of-type {\n",
              "        vertical-align: middle;\n",
              "    }\n",
              "\n",
              "    .dataframe tbody tr th {\n",
              "        vertical-align: top;\n",
              "    }\n",
              "\n",
              "    .dataframe thead th {\n",
              "        text-align: right;\n",
              "    }\n",
              "</style>\n",
              "<table border=\"1\" class=\"dataframe\">\n",
              "  <thead>\n",
              "    <tr style=\"text-align: right;\">\n",
              "      <th></th>\n",
              "      <th>From_Date</th>\n",
              "      <th>To_Date</th>\n",
              "      <th>PM2.5</th>\n",
              "    </tr>\n",
              "  </thead>\n",
              "  <tbody>\n",
              "    <tr>\n",
              "      <th>count</th>\n",
              "      <td>46197</td>\n",
              "      <td>46197</td>\n",
              "      <td>46197</td>\n",
              "    </tr>\n",
              "    <tr>\n",
              "      <th>unique</th>\n",
              "      <td>46197</td>\n",
              "      <td>46197</td>\n",
              "      <td>11116</td>\n",
              "    </tr>\n",
              "    <tr>\n",
              "      <th>top</th>\n",
              "      <td>30-10-2017 00:00</td>\n",
              "      <td>30-10-2017 01:00</td>\n",
              "      <td>None</td>\n",
              "    </tr>\n",
              "    <tr>\n",
              "      <th>freq</th>\n",
              "      <td>1</td>\n",
              "      <td>1</td>\n",
              "      <td>1490</td>\n",
              "    </tr>\n",
              "  </tbody>\n",
              "</table>\n",
              "</div>\n",
              "      <button class=\"colab-df-convert\" onclick=\"convertToInteractive('df-5af88e6b-7de7-4d3d-934b-54283f14e3f5')\"\n",
              "              title=\"Convert this dataframe to an interactive table.\"\n",
              "              style=\"display:none;\">\n",
              "        \n",
              "  <svg xmlns=\"http://www.w3.org/2000/svg\" height=\"24px\"viewBox=\"0 0 24 24\"\n",
              "       width=\"24px\">\n",
              "    <path d=\"M0 0h24v24H0V0z\" fill=\"none\"/>\n",
              "    <path d=\"M18.56 5.44l.94 2.06.94-2.06 2.06-.94-2.06-.94-.94-2.06-.94 2.06-2.06.94zm-11 1L8.5 8.5l.94-2.06 2.06-.94-2.06-.94L8.5 2.5l-.94 2.06-2.06.94zm10 10l.94 2.06.94-2.06 2.06-.94-2.06-.94-.94-2.06-.94 2.06-2.06.94z\"/><path d=\"M17.41 7.96l-1.37-1.37c-.4-.4-.92-.59-1.43-.59-.52 0-1.04.2-1.43.59L10.3 9.45l-7.72 7.72c-.78.78-.78 2.05 0 2.83L4 21.41c.39.39.9.59 1.41.59.51 0 1.02-.2 1.41-.59l7.78-7.78 2.81-2.81c.8-.78.8-2.07 0-2.86zM5.41 20L4 18.59l7.72-7.72 1.47 1.35L5.41 20z\"/>\n",
              "  </svg>\n",
              "      </button>\n",
              "      \n",
              "  <style>\n",
              "    .colab-df-container {\n",
              "      display:flex;\n",
              "      flex-wrap:wrap;\n",
              "      gap: 12px;\n",
              "    }\n",
              "\n",
              "    .colab-df-convert {\n",
              "      background-color: #E8F0FE;\n",
              "      border: none;\n",
              "      border-radius: 50%;\n",
              "      cursor: pointer;\n",
              "      display: none;\n",
              "      fill: #1967D2;\n",
              "      height: 32px;\n",
              "      padding: 0 0 0 0;\n",
              "      width: 32px;\n",
              "    }\n",
              "\n",
              "    .colab-df-convert:hover {\n",
              "      background-color: #E2EBFA;\n",
              "      box-shadow: 0px 1px 2px rgba(60, 64, 67, 0.3), 0px 1px 3px 1px rgba(60, 64, 67, 0.15);\n",
              "      fill: #174EA6;\n",
              "    }\n",
              "\n",
              "    [theme=dark] .colab-df-convert {\n",
              "      background-color: #3B4455;\n",
              "      fill: #D2E3FC;\n",
              "    }\n",
              "\n",
              "    [theme=dark] .colab-df-convert:hover {\n",
              "      background-color: #434B5C;\n",
              "      box-shadow: 0px 1px 3px 1px rgba(0, 0, 0, 0.15);\n",
              "      filter: drop-shadow(0px 1px 2px rgba(0, 0, 0, 0.3));\n",
              "      fill: #FFFFFF;\n",
              "    }\n",
              "  </style>\n",
              "\n",
              "      <script>\n",
              "        const buttonEl =\n",
              "          document.querySelector('#df-5af88e6b-7de7-4d3d-934b-54283f14e3f5 button.colab-df-convert');\n",
              "        buttonEl.style.display =\n",
              "          google.colab.kernel.accessAllowed ? 'block' : 'none';\n",
              "\n",
              "        async function convertToInteractive(key) {\n",
              "          const element = document.querySelector('#df-5af88e6b-7de7-4d3d-934b-54283f14e3f5');\n",
              "          const dataTable =\n",
              "            await google.colab.kernel.invokeFunction('convertToInteractive',\n",
              "                                                     [key], {});\n",
              "          if (!dataTable) return;\n",
              "\n",
              "          const docLinkHtml = 'Like what you see? Visit the ' +\n",
              "            '<a target=\"_blank\" href=https://colab.research.google.com/notebooks/data_table.ipynb>data table notebook</a>'\n",
              "            + ' to learn more about interactive tables.';\n",
              "          element.innerHTML = '';\n",
              "          dataTable['output_type'] = 'display_data';\n",
              "          await google.colab.output.renderOutput(dataTable, element);\n",
              "          const docLink = document.createElement('div');\n",
              "          docLink.innerHTML = docLinkHtml;\n",
              "          element.appendChild(docLink);\n",
              "        }\n",
              "      </script>\n",
              "    </div>\n",
              "  </div>\n",
              "  "
            ]
          },
          "metadata": {},
          "execution_count": 73
        }
      ],
      "source": [
        "PM25.describe()"
      ]
    },
    {
      "cell_type": "code",
      "execution_count": 74,
      "metadata": {
        "id": "irsuAT4MUZB9"
      },
      "outputs": [],
      "source": [
        "PM25['PM2.5'][PM25['PM2.5']=='None']=np.nan"
      ]
    },
    {
      "cell_type": "code",
      "source": [
        "PM25['PM2.5'].isnull().sum()"
      ],
      "metadata": {
        "colab": {
          "base_uri": "https://localhost:8080/"
        },
        "id": "MuIFlx0KeV_D",
        "outputId": "2a307b4a-6bc3-412e-a69e-15661be6dc33"
      },
      "execution_count": 77,
      "outputs": [
        {
          "output_type": "execute_result",
          "data": {
            "text/plain": [
              "0"
            ]
          },
          "metadata": {},
          "execution_count": 77
        }
      ]
    },
    {
      "cell_type": "code",
      "source": [
        "PM25['PM2.5'].fillna(method='bfill',inplace=True)"
      ],
      "metadata": {
        "id": "aBqG8KPwWYzG"
      },
      "execution_count": 76,
      "outputs": []
    },
    {
      "cell_type": "code",
      "source": [
        "#PM25['PM2.5'][1769]\n",
        "PM25['PM2.5']=pd.to_numeric(PM25['PM2.5'])"
      ],
      "metadata": {
        "id": "rQkyIdzgWZuE"
      },
      "execution_count": 104,
      "outputs": []
    },
    {
      "cell_type": "code",
      "execution_count": 85,
      "metadata": {
        "id": "T_ujTX0EU4_m"
      },
      "outputs": [],
      "source": [
        "PM25[\"Timestamp\"] = pd.to_datetime(PM25[\"To_Date\"])\n"
      ]
    },
    {
      "cell_type": "code",
      "source": [
        "PM25.describe()"
      ],
      "metadata": {
        "colab": {
          "base_uri": "https://localhost:8080/",
          "height": 300
        },
        "id": "JXPL1SUkbtN-",
        "outputId": "e3cbc4a7-9667-46bf-881a-7166f896492e"
      },
      "execution_count": 105,
      "outputs": [
        {
          "output_type": "execute_result",
          "data": {
            "text/plain": [
              "              PM2.5         years\n",
              "count  46197.000000  46197.000000\n",
              "mean      47.303338   2019.957854\n",
              "std       35.638599      1.535189\n",
              "min        0.030000   2017.000000\n",
              "25%       26.390000   2019.000000\n",
              "50%       40.280000   2020.000000\n",
              "75%       58.880000   2021.000000\n",
              "max      999.990000   2023.000000"
            ],
            "text/html": [
              "\n",
              "  <div id=\"df-07798c09-ccb9-469e-a23b-33ba3cef6689\">\n",
              "    <div class=\"colab-df-container\">\n",
              "      <div>\n",
              "<style scoped>\n",
              "    .dataframe tbody tr th:only-of-type {\n",
              "        vertical-align: middle;\n",
              "    }\n",
              "\n",
              "    .dataframe tbody tr th {\n",
              "        vertical-align: top;\n",
              "    }\n",
              "\n",
              "    .dataframe thead th {\n",
              "        text-align: right;\n",
              "    }\n",
              "</style>\n",
              "<table border=\"1\" class=\"dataframe\">\n",
              "  <thead>\n",
              "    <tr style=\"text-align: right;\">\n",
              "      <th></th>\n",
              "      <th>PM2.5</th>\n",
              "      <th>years</th>\n",
              "    </tr>\n",
              "  </thead>\n",
              "  <tbody>\n",
              "    <tr>\n",
              "      <th>count</th>\n",
              "      <td>46197.000000</td>\n",
              "      <td>46197.000000</td>\n",
              "    </tr>\n",
              "    <tr>\n",
              "      <th>mean</th>\n",
              "      <td>47.303338</td>\n",
              "      <td>2019.957854</td>\n",
              "    </tr>\n",
              "    <tr>\n",
              "      <th>std</th>\n",
              "      <td>35.638599</td>\n",
              "      <td>1.535189</td>\n",
              "    </tr>\n",
              "    <tr>\n",
              "      <th>min</th>\n",
              "      <td>0.030000</td>\n",
              "      <td>2017.000000</td>\n",
              "    </tr>\n",
              "    <tr>\n",
              "      <th>25%</th>\n",
              "      <td>26.390000</td>\n",
              "      <td>2019.000000</td>\n",
              "    </tr>\n",
              "    <tr>\n",
              "      <th>50%</th>\n",
              "      <td>40.280000</td>\n",
              "      <td>2020.000000</td>\n",
              "    </tr>\n",
              "    <tr>\n",
              "      <th>75%</th>\n",
              "      <td>58.880000</td>\n",
              "      <td>2021.000000</td>\n",
              "    </tr>\n",
              "    <tr>\n",
              "      <th>max</th>\n",
              "      <td>999.990000</td>\n",
              "      <td>2023.000000</td>\n",
              "    </tr>\n",
              "  </tbody>\n",
              "</table>\n",
              "</div>\n",
              "      <button class=\"colab-df-convert\" onclick=\"convertToInteractive('df-07798c09-ccb9-469e-a23b-33ba3cef6689')\"\n",
              "              title=\"Convert this dataframe to an interactive table.\"\n",
              "              style=\"display:none;\">\n",
              "        \n",
              "  <svg xmlns=\"http://www.w3.org/2000/svg\" height=\"24px\"viewBox=\"0 0 24 24\"\n",
              "       width=\"24px\">\n",
              "    <path d=\"M0 0h24v24H0V0z\" fill=\"none\"/>\n",
              "    <path d=\"M18.56 5.44l.94 2.06.94-2.06 2.06-.94-2.06-.94-.94-2.06-.94 2.06-2.06.94zm-11 1L8.5 8.5l.94-2.06 2.06-.94-2.06-.94L8.5 2.5l-.94 2.06-2.06.94zm10 10l.94 2.06.94-2.06 2.06-.94-2.06-.94-.94-2.06-.94 2.06-2.06.94z\"/><path d=\"M17.41 7.96l-1.37-1.37c-.4-.4-.92-.59-1.43-.59-.52 0-1.04.2-1.43.59L10.3 9.45l-7.72 7.72c-.78.78-.78 2.05 0 2.83L4 21.41c.39.39.9.59 1.41.59.51 0 1.02-.2 1.41-.59l7.78-7.78 2.81-2.81c.8-.78.8-2.07 0-2.86zM5.41 20L4 18.59l7.72-7.72 1.47 1.35L5.41 20z\"/>\n",
              "  </svg>\n",
              "      </button>\n",
              "      \n",
              "  <style>\n",
              "    .colab-df-container {\n",
              "      display:flex;\n",
              "      flex-wrap:wrap;\n",
              "      gap: 12px;\n",
              "    }\n",
              "\n",
              "    .colab-df-convert {\n",
              "      background-color: #E8F0FE;\n",
              "      border: none;\n",
              "      border-radius: 50%;\n",
              "      cursor: pointer;\n",
              "      display: none;\n",
              "      fill: #1967D2;\n",
              "      height: 32px;\n",
              "      padding: 0 0 0 0;\n",
              "      width: 32px;\n",
              "    }\n",
              "\n",
              "    .colab-df-convert:hover {\n",
              "      background-color: #E2EBFA;\n",
              "      box-shadow: 0px 1px 2px rgba(60, 64, 67, 0.3), 0px 1px 3px 1px rgba(60, 64, 67, 0.15);\n",
              "      fill: #174EA6;\n",
              "    }\n",
              "\n",
              "    [theme=dark] .colab-df-convert {\n",
              "      background-color: #3B4455;\n",
              "      fill: #D2E3FC;\n",
              "    }\n",
              "\n",
              "    [theme=dark] .colab-df-convert:hover {\n",
              "      background-color: #434B5C;\n",
              "      box-shadow: 0px 1px 3px 1px rgba(0, 0, 0, 0.15);\n",
              "      filter: drop-shadow(0px 1px 2px rgba(0, 0, 0, 0.3));\n",
              "      fill: #FFFFFF;\n",
              "    }\n",
              "  </style>\n",
              "\n",
              "      <script>\n",
              "        const buttonEl =\n",
              "          document.querySelector('#df-07798c09-ccb9-469e-a23b-33ba3cef6689 button.colab-df-convert');\n",
              "        buttonEl.style.display =\n",
              "          google.colab.kernel.accessAllowed ? 'block' : 'none';\n",
              "\n",
              "        async function convertToInteractive(key) {\n",
              "          const element = document.querySelector('#df-07798c09-ccb9-469e-a23b-33ba3cef6689');\n",
              "          const dataTable =\n",
              "            await google.colab.kernel.invokeFunction('convertToInteractive',\n",
              "                                                     [key], {});\n",
              "          if (!dataTable) return;\n",
              "\n",
              "          const docLinkHtml = 'Like what you see? Visit the ' +\n",
              "            '<a target=\"_blank\" href=https://colab.research.google.com/notebooks/data_table.ipynb>data table notebook</a>'\n",
              "            + ' to learn more about interactive tables.';\n",
              "          element.innerHTML = '';\n",
              "          dataTable['output_type'] = 'display_data';\n",
              "          await google.colab.output.renderOutput(dataTable, element);\n",
              "          const docLink = document.createElement('div');\n",
              "          docLink.innerHTML = docLinkHtml;\n",
              "          element.appendChild(docLink);\n",
              "        }\n",
              "      </script>\n",
              "    </div>\n",
              "  </div>\n",
              "  "
            ]
          },
          "metadata": {},
          "execution_count": 105
        }
      ]
    },
    {
      "cell_type": "code",
      "execution_count": 86,
      "metadata": {
        "colab": {
          "base_uri": "https://localhost:8080/",
          "height": 206
        },
        "id": "CCy-IXNhVDow",
        "outputId": "fbd09608-92ae-4a42-b8d9-e1e3ed2347e1"
      },
      "outputs": [
        {
          "output_type": "execute_result",
          "data": {
            "text/plain": [
              "          From_Date           To_Date  PM2.5           Timestamp\n",
              "0  30-10-2017 00:00  30-10-2017 01:00  70.79 2017-10-30 01:00:00\n",
              "1  30-10-2017 01:00  30-10-2017 02:00  69.96 2017-10-30 02:00:00\n",
              "2  30-10-2017 02:00  30-10-2017 03:00  73.36 2017-10-30 03:00:00\n",
              "3  30-10-2017 03:00  30-10-2017 04:00  75.97 2017-10-30 04:00:00\n",
              "4  30-10-2017 04:00  30-10-2017 05:00  82.07 2017-10-30 05:00:00"
            ],
            "text/html": [
              "\n",
              "  <div id=\"df-096e858d-8dcb-4817-b642-75d760eb4e86\">\n",
              "    <div class=\"colab-df-container\">\n",
              "      <div>\n",
              "<style scoped>\n",
              "    .dataframe tbody tr th:only-of-type {\n",
              "        vertical-align: middle;\n",
              "    }\n",
              "\n",
              "    .dataframe tbody tr th {\n",
              "        vertical-align: top;\n",
              "    }\n",
              "\n",
              "    .dataframe thead th {\n",
              "        text-align: right;\n",
              "    }\n",
              "</style>\n",
              "<table border=\"1\" class=\"dataframe\">\n",
              "  <thead>\n",
              "    <tr style=\"text-align: right;\">\n",
              "      <th></th>\n",
              "      <th>From_Date</th>\n",
              "      <th>To_Date</th>\n",
              "      <th>PM2.5</th>\n",
              "      <th>Timestamp</th>\n",
              "    </tr>\n",
              "  </thead>\n",
              "  <tbody>\n",
              "    <tr>\n",
              "      <th>0</th>\n",
              "      <td>30-10-2017 00:00</td>\n",
              "      <td>30-10-2017 01:00</td>\n",
              "      <td>70.79</td>\n",
              "      <td>2017-10-30 01:00:00</td>\n",
              "    </tr>\n",
              "    <tr>\n",
              "      <th>1</th>\n",
              "      <td>30-10-2017 01:00</td>\n",
              "      <td>30-10-2017 02:00</td>\n",
              "      <td>69.96</td>\n",
              "      <td>2017-10-30 02:00:00</td>\n",
              "    </tr>\n",
              "    <tr>\n",
              "      <th>2</th>\n",
              "      <td>30-10-2017 02:00</td>\n",
              "      <td>30-10-2017 03:00</td>\n",
              "      <td>73.36</td>\n",
              "      <td>2017-10-30 03:00:00</td>\n",
              "    </tr>\n",
              "    <tr>\n",
              "      <th>3</th>\n",
              "      <td>30-10-2017 03:00</td>\n",
              "      <td>30-10-2017 04:00</td>\n",
              "      <td>75.97</td>\n",
              "      <td>2017-10-30 04:00:00</td>\n",
              "    </tr>\n",
              "    <tr>\n",
              "      <th>4</th>\n",
              "      <td>30-10-2017 04:00</td>\n",
              "      <td>30-10-2017 05:00</td>\n",
              "      <td>82.07</td>\n",
              "      <td>2017-10-30 05:00:00</td>\n",
              "    </tr>\n",
              "  </tbody>\n",
              "</table>\n",
              "</div>\n",
              "      <button class=\"colab-df-convert\" onclick=\"convertToInteractive('df-096e858d-8dcb-4817-b642-75d760eb4e86')\"\n",
              "              title=\"Convert this dataframe to an interactive table.\"\n",
              "              style=\"display:none;\">\n",
              "        \n",
              "  <svg xmlns=\"http://www.w3.org/2000/svg\" height=\"24px\"viewBox=\"0 0 24 24\"\n",
              "       width=\"24px\">\n",
              "    <path d=\"M0 0h24v24H0V0z\" fill=\"none\"/>\n",
              "    <path d=\"M18.56 5.44l.94 2.06.94-2.06 2.06-.94-2.06-.94-.94-2.06-.94 2.06-2.06.94zm-11 1L8.5 8.5l.94-2.06 2.06-.94-2.06-.94L8.5 2.5l-.94 2.06-2.06.94zm10 10l.94 2.06.94-2.06 2.06-.94-2.06-.94-.94-2.06-.94 2.06-2.06.94z\"/><path d=\"M17.41 7.96l-1.37-1.37c-.4-.4-.92-.59-1.43-.59-.52 0-1.04.2-1.43.59L10.3 9.45l-7.72 7.72c-.78.78-.78 2.05 0 2.83L4 21.41c.39.39.9.59 1.41.59.51 0 1.02-.2 1.41-.59l7.78-7.78 2.81-2.81c.8-.78.8-2.07 0-2.86zM5.41 20L4 18.59l7.72-7.72 1.47 1.35L5.41 20z\"/>\n",
              "  </svg>\n",
              "      </button>\n",
              "      \n",
              "  <style>\n",
              "    .colab-df-container {\n",
              "      display:flex;\n",
              "      flex-wrap:wrap;\n",
              "      gap: 12px;\n",
              "    }\n",
              "\n",
              "    .colab-df-convert {\n",
              "      background-color: #E8F0FE;\n",
              "      border: none;\n",
              "      border-radius: 50%;\n",
              "      cursor: pointer;\n",
              "      display: none;\n",
              "      fill: #1967D2;\n",
              "      height: 32px;\n",
              "      padding: 0 0 0 0;\n",
              "      width: 32px;\n",
              "    }\n",
              "\n",
              "    .colab-df-convert:hover {\n",
              "      background-color: #E2EBFA;\n",
              "      box-shadow: 0px 1px 2px rgba(60, 64, 67, 0.3), 0px 1px 3px 1px rgba(60, 64, 67, 0.15);\n",
              "      fill: #174EA6;\n",
              "    }\n",
              "\n",
              "    [theme=dark] .colab-df-convert {\n",
              "      background-color: #3B4455;\n",
              "      fill: #D2E3FC;\n",
              "    }\n",
              "\n",
              "    [theme=dark] .colab-df-convert:hover {\n",
              "      background-color: #434B5C;\n",
              "      box-shadow: 0px 1px 3px 1px rgba(0, 0, 0, 0.15);\n",
              "      filter: drop-shadow(0px 1px 2px rgba(0, 0, 0, 0.3));\n",
              "      fill: #FFFFFF;\n",
              "    }\n",
              "  </style>\n",
              "\n",
              "      <script>\n",
              "        const buttonEl =\n",
              "          document.querySelector('#df-096e858d-8dcb-4817-b642-75d760eb4e86 button.colab-df-convert');\n",
              "        buttonEl.style.display =\n",
              "          google.colab.kernel.accessAllowed ? 'block' : 'none';\n",
              "\n",
              "        async function convertToInteractive(key) {\n",
              "          const element = document.querySelector('#df-096e858d-8dcb-4817-b642-75d760eb4e86');\n",
              "          const dataTable =\n",
              "            await google.colab.kernel.invokeFunction('convertToInteractive',\n",
              "                                                     [key], {});\n",
              "          if (!dataTable) return;\n",
              "\n",
              "          const docLinkHtml = 'Like what you see? Visit the ' +\n",
              "            '<a target=\"_blank\" href=https://colab.research.google.com/notebooks/data_table.ipynb>data table notebook</a>'\n",
              "            + ' to learn more about interactive tables.';\n",
              "          element.innerHTML = '';\n",
              "          dataTable['output_type'] = 'display_data';\n",
              "          await google.colab.output.renderOutput(dataTable, element);\n",
              "          const docLink = document.createElement('div');\n",
              "          docLink.innerHTML = docLinkHtml;\n",
              "          element.appendChild(docLink);\n",
              "        }\n",
              "      </script>\n",
              "    </div>\n",
              "  </div>\n",
              "  "
            ]
          },
          "metadata": {},
          "execution_count": 86
        }
      ],
      "source": [
        "PM25.head()"
      ]
    },
    {
      "cell_type": "code",
      "execution_count": 100,
      "metadata": {
        "id": "SCUzVuftzAvO"
      },
      "outputs": [],
      "source": [
        "PM25['years']=PM25[\"Timestamp\"].dt.year"
      ]
    },
    {
      "cell_type": "code",
      "execution_count": 88,
      "metadata": {
        "colab": {
          "base_uri": "https://localhost:8080/",
          "height": 435
        },
        "id": "ZGIOFNVV0TNR",
        "outputId": "1218b691-e987-4e9c-d970-6de36bdd252a"
      },
      "outputs": [
        {
          "output_type": "execute_result",
          "data": {
            "text/plain": [
              "<matplotlib.axes._subplots.AxesSubplot at 0x7fc8df819820>"
            ]
          },
          "metadata": {},
          "execution_count": 88
        },
        {
          "output_type": "display_data",
          "data": {
            "text/plain": [
              "<Figure size 864x432 with 1 Axes>"
            ],
            "image/png": "[encoded data removed]"
          },
          "metadata": {}
        }
      ],
      "source": [
        "sns.set_theme(style=\"darkgrid\")\n",
        "sns.lineplot(data=PM25,x='Timestamp',y='PM2.5')\n",
        "#sns.relplot(data=PM25,x='Timestamp',y='PM2.5',kind=\"line\")\n",
        "#PM25.plot(x='Timestamp',y='PM2.5',figsize=(20,8))\n",
        "#plt.xticks(rotation=45)\n",
        "#plt.xlabel('Years')\n",
        "#plt.ylabel('µg/m$^3$')\n",
        "#plt.show()\n"
      ]
    },
    {
      "cell_type": "code",
      "execution_count": 145,
      "metadata": {
        "colab": {
          "base_uri": "https://localhost:8080/",
          "height": 435
        },
        "id": "Te6tnLn5zgQQ",
        "outputId": "14c6d699-86d0-4687-c234-6f478249d1fe"
      },
      "outputs": [
        {
          "output_type": "execute_result",
          "data": {
            "text/plain": [
              "<matplotlib.axes._subplots.AxesSubplot at 0x7fc8d08a0730>"
            ]
          },
          "metadata": {},
          "execution_count": 145
        },
        {
          "output_type": "display_data",
          "data": {
            "text/plain": [
              "<Figure size 864x432 with 1 Axes>"
            ],
            "image/png": "[encoded data removed]"
          },
          "metadata": {}
        }
      ],
      "source": [
        "PM25.groupby('years')['PM2.5'].mean().plot()"
      ]
    },
    {
      "cell_type": "code",
      "execution_count": 146,
      "metadata": {
        "colab": {
          "base_uri": "https://localhost:8080/",
          "height": 435
        },
        "id": "0eSRF3MaDL7T",
        "outputId": "3c89c39b-678b-4765-ecd9-28548051674c"
      },
      "outputs": [
        {
          "output_type": "execute_result",
          "data": {
            "text/plain": [
              "<matplotlib.axes._subplots.AxesSubplot at 0x7fc8d082ba00>"
            ]
          },
          "metadata": {},
          "execution_count": 146
        },
        {
          "output_type": "display_data",
          "data": {
            "text/plain": [
              "<Figure size 864x432 with 1 Axes>"
            ],
            "image/png": "[encoded data removed]"
          },
          "metadata": {}
        }
      ],
      "source": [
        "PM25[\"Month\"]=PM25[\"Timestamp\"].dt.month\n",
        "PM25.groupby('Month')['PM2.5'].mean().plot()"
      ]
    },
    {
      "cell_type": "code",
      "execution_count": 147,
      "metadata": {
        "colab": {
          "base_uri": "https://localhost:8080/",
          "height": 417
        },
        "id": "HqcmPw6IBpPu",
        "outputId": "2a7480f7-48da-459f-eb1d-f09f7efa1df1"
      },
      "outputs": [
        {
          "output_type": "display_data",
          "data": {
            "text/plain": [
              "<Figure size 864x432 with 1 Axes>"
            ],
            "image/png": "[encoded data removed]"
          },
          "metadata": {}
        }
      ],
      "source": [
        "#Boxplot by year\n",
        "df_year=PM25.loc[:,['years','PM2.5']]\n",
        "sns.boxplot(x='years', y='PM2.5',data=df_year)\n",
        "df_name=df_year\n",
        "for i in df_name['PM2.5']:\n",
        "  q1=df_name['PM2.5'].quantile(0.25)\n",
        "  q3=df_name['PM2.5'].quantile(0.75)\n",
        "  iqr=q3-q1\n",
        "  lower,upper=q1-1.5*iqr,q3+1.5*iqr"
      ]
    },
    {
      "cell_type": "code",
      "execution_count": 148,
      "metadata": {
        "id": "injM-_fzumYU"
      },
      "outputs": [],
      "source": [
        "def drop_outliers(df,field_name):\n",
        "  iqr=1.5*(np.percentile(df[field_name],75)-np.percentile(df[field_name],25))\n",
        "  df.drop(df[df[field_name]>(iqr + np.percentile(df[field_name],75))].index,inplace=True)\n",
        "  df.drop(df[df[field_name]<(np.percentile(df[field_name],25) - iqr)].index,inplace=True)\n",
        "drop_outliers(df_year,'PM2.5')\n"
      ]
    },
    {
      "cell_type": "code",
      "execution_count": 149,
      "metadata": {
        "colab": {
          "base_uri": "https://localhost:8080/"
        },
        "id": "UYk98ZNDCpvA",
        "outputId": "0cff7624-afbb-4989-8867-d6c6238390e8"
      },
      "outputs": [
        {
          "output_type": "stream",
          "name": "stdout",
          "text": [
            "Identified outliers: 0\n",
            "Non-outlier observations: 44138\n"
          ]
        }
      ],
      "source": [
        "# identify outliers\n",
        "outliers = [x for x in df_name['PM2.5'] if x < lower or x > upper]\n",
        "print('Identified outliers: %d' % len(outliers))\n",
        "# remove outliers\n",
        "outliers_removed = [x for x in df_name['PM2.5'] if x >= lower and x <= upper]\n",
        "print('Non-outlier observations: %d' % len(outliers_removed))"
      ]
    },
    {
      "cell_type": "code",
      "execution_count": null,
      "metadata": {
        "id": "7dY7N4iK4eyh"
      },
      "outputs": [],
      "source": []
    },
    {
      "cell_type": "code",
      "execution_count": 150,
      "metadata": {
        "colab": {
          "base_uri": "https://localhost:8080/",
          "height": 112
        },
        "id": "P3MuPi6DDB6V",
        "outputId": "ffbf8107-18ba-4c78-f659-658a879e317b"
      },
      "outputs": [
        {
          "output_type": "execute_result",
          "data": {
            "text/plain": [
              "         count         mean        std      min        25%      50%      75%  \\\n",
              "years  44138.0  2019.927500   1.530827  2017.00  2019.0000  2020.00  2021.00   \n",
              "PM2.5  44138.0    42.219826  22.323084     0.03    25.7125    38.92    55.62   \n",
              "\n",
              "           max  \n",
              "years  2023.00  \n",
              "PM2.5   107.61  "
            ],
            "text/html": [
              "\n",
              "  <div id=\"df-e0015106-e6cc-4fc2-a17a-790874a1b57f\">\n",
              "    <div class=\"colab-df-container\">\n",
              "      <div>\n",
              "<style scoped>\n",
              "    .dataframe tbody tr th:only-of-type {\n",
              "        vertical-align: middle;\n",
              "    }\n",
              "\n",
              "    .dataframe tbody tr th {\n",
              "        vertical-align: top;\n",
              "    }\n",
              "\n",
              "    .dataframe thead th {\n",
              "        text-align: right;\n",
              "    }\n",
              "</style>\n",
              "<table border=\"1\" class=\"dataframe\">\n",
              "  <thead>\n",
              "    <tr style=\"text-align: right;\">\n",
              "      <th></th>\n",
              "      <th>count</th>\n",
              "      <th>mean</th>\n",
              "      <th>std</th>\n",
              "      <th>min</th>\n",
              "      <th>25%</th>\n",
              "      <th>50%</th>\n",
              "      <th>75%</th>\n",
              "      <th>max</th>\n",
              "    </tr>\n",
              "  </thead>\n",
              "  <tbody>\n",
              "    <tr>\n",
              "      <th>years</th>\n",
              "      <td>44138.0</td>\n",
              "      <td>2019.927500</td>\n",
              "      <td>1.530827</td>\n",
              "      <td>2017.00</td>\n",
              "      <td>2019.0000</td>\n",
              "      <td>2020.00</td>\n",
              "      <td>2021.00</td>\n",
              "      <td>2023.00</td>\n",
              "    </tr>\n",
              "    <tr>\n",
              "      <th>PM2.5</th>\n",
              "      <td>44138.0</td>\n",
              "      <td>42.219826</td>\n",
              "      <td>22.323084</td>\n",
              "      <td>0.03</td>\n",
              "      <td>25.7125</td>\n",
              "      <td>38.92</td>\n",
              "      <td>55.62</td>\n",
              "      <td>107.61</td>\n",
              "    </tr>\n",
              "  </tbody>\n",
              "</table>\n",
              "</div>\n",
              "      <button class=\"colab-df-convert\" onclick=\"convertToInteractive('df-e0015106-e6cc-4fc2-a17a-790874a1b57f')\"\n",
              "              title=\"Convert this dataframe to an interactive table.\"\n",
              "              style=\"display:none;\">\n",
              "        \n",
              "  <svg xmlns=\"http://www.w3.org/2000/svg\" height=\"24px\"viewBox=\"0 0 24 24\"\n",
              "       width=\"24px\">\n",
              "    <path d=\"M0 0h24v24H0V0z\" fill=\"none\"/>\n",
              "    <path d=\"M18.56 5.44l.94 2.06.94-2.06 2.06-.94-2.06-.94-.94-2.06-.94 2.06-2.06.94zm-11 1L8.5 8.5l.94-2.06 2.06-.94-2.06-.94L8.5 2.5l-.94 2.06-2.06.94zm10 10l.94 2.06.94-2.06 2.06-.94-2.06-.94-.94-2.06-.94 2.06-2.06.94z\"/><path d=\"M17.41 7.96l-1.37-1.37c-.4-.4-.92-.59-1.43-.59-.52 0-1.04.2-1.43.59L10.3 9.45l-7.72 7.72c-.78.78-.78 2.05 0 2.83L4 21.41c.39.39.9.59 1.41.59.51 0 1.02-.2 1.41-.59l7.78-7.78 2.81-2.81c.8-.78.8-2.07 0-2.86zM5.41 20L4 18.59l7.72-7.72 1.47 1.35L5.41 20z\"/>\n",
              "  </svg>\n",
              "      </button>\n",
              "      \n",
              "  <style>\n",
              "    .colab-df-container {\n",
              "      display:flex;\n",
              "      flex-wrap:wrap;\n",
              "      gap: 12px;\n",
              "    }\n",
              "\n",
              "    .colab-df-convert {\n",
              "      background-color: #E8F0FE;\n",
              "      border: none;\n",
              "      border-radius: 50%;\n",
              "      cursor: pointer;\n",
              "      display: none;\n",
              "      fill: #1967D2;\n",
              "      height: 32px;\n",
              "      padding: 0 0 0 0;\n",
              "      width: 32px;\n",
              "    }\n",
              "\n",
              "    .colab-df-convert:hover {\n",
              "      background-color: #E2EBFA;\n",
              "      box-shadow: 0px 1px 2px rgba(60, 64, 67, 0.3), 0px 1px 3px 1px rgba(60, 64, 67, 0.15);\n",
              "      fill: #174EA6;\n",
              "    }\n",
              "\n",
              "    [theme=dark] .colab-df-convert {\n",
              "      background-color: #3B4455;\n",
              "      fill: #D2E3FC;\n",
              "    }\n",
              "\n",
              "    [theme=dark] .colab-df-convert:hover {\n",
              "      background-color: #434B5C;\n",
              "      box-shadow: 0px 1px 3px 1px rgba(0, 0, 0, 0.15);\n",
              "      filter: drop-shadow(0px 1px 2px rgba(0, 0, 0, 0.3));\n",
              "      fill: #FFFFFF;\n",
              "    }\n",
              "  </style>\n",
              "\n",
              "      <script>\n",
              "        const buttonEl =\n",
              "          document.querySelector('#df-e0015106-e6cc-4fc2-a17a-790874a1b57f button.colab-df-convert');\n",
              "        buttonEl.style.display =\n",
              "          google.colab.kernel.accessAllowed ? 'block' : 'none';\n",
              "\n",
              "        async function convertToInteractive(key) {\n",
              "          const element = document.querySelector('#df-e0015106-e6cc-4fc2-a17a-790874a1b57f');\n",
              "          const dataTable =\n",
              "            await google.colab.kernel.invokeFunction('convertToInteractive',\n",
              "                                                     [key], {});\n",
              "          if (!dataTable) return;\n",
              "\n",
              "          const docLinkHtml = 'Like what you see? Visit the ' +\n",
              "            '<a target=\"_blank\" href=https://colab.research.google.com/notebooks/data_table.ipynb>data table notebook</a>'\n",
              "            + ' to learn more about interactive tables.';\n",
              "          element.innerHTML = '';\n",
              "          dataTable['output_type'] = 'display_data';\n",
              "          await google.colab.output.renderOutput(dataTable, element);\n",
              "          const docLink = document.createElement('div');\n",
              "          docLink.innerHTML = docLinkHtml;\n",
              "          element.appendChild(docLink);\n",
              "        }\n",
              "      </script>\n",
              "    </div>\n",
              "  </div>\n",
              "  "
            ]
          },
          "metadata": {},
          "execution_count": 150
        }
      ],
      "source": [
        "df_year.describe().T"
      ]
    },
    {
      "cell_type": "code",
      "execution_count": 151,
      "metadata": {
        "colab": {
          "base_uri": "https://localhost:8080/",
          "height": 435
        },
        "id": "HvuVIEyU_jMJ",
        "outputId": "185b2cd2-8ae1-4227-a34e-4854d6c05f90"
      },
      "outputs": [
        {
          "output_type": "execute_result",
          "data": {
            "text/plain": [
              "<matplotlib.axes._subplots.AxesSubplot at 0x7fc8d6455a30>"
            ]
          },
          "metadata": {},
          "execution_count": 151
        },
        {
          "output_type": "display_data",
          "data": {
            "text/plain": [
              "<Figure size 864x432 with 1 Axes>"
            ],
            "image/png": "[encoded data removed]"
          },
          "metadata": {}
        }
      ],
      "source": [
        "sns.boxplot(x='years', y='PM2.5',data=df_year)"
      ]
    },
    {
      "cell_type": "code",
      "execution_count": 152,
      "metadata": {
        "colab": {
          "base_uri": "https://localhost:8080/",
          "height": 435
        },
        "id": "wOLjAoJLDxSk",
        "outputId": "5ccd58fc-eb45-4d0c-d06e-21c220977d4c"
      },
      "outputs": [
        {
          "output_type": "execute_result",
          "data": {
            "text/plain": [
              "<matplotlib.axes._subplots.AxesSubplot at 0x7fc8daf5e610>"
            ]
          },
          "metadata": {},
          "execution_count": 152
        },
        {
          "output_type": "display_data",
          "data": {
            "text/plain": [
              "<Figure size 864x432 with 1 Axes>"
            ],
            "image/png": "[encoded data removed]"
          },
          "metadata": {}
        }
      ],
      "source": [
        "#Time series by month average\n",
        "\n",
        "PM25.groupby('Month')['PM2.5'].mean().plot()"
      ]
    },
    {
      "cell_type": "code",
      "execution_count": 153,
      "metadata": {
        "colab": {
          "base_uri": "https://localhost:8080/",
          "height": 435
        },
        "id": "dV4hmF_aFQ4c",
        "outputId": "af005bd2-97a8-45f8-c9cb-c1b46cfc2af8"
      },
      "outputs": [
        {
          "output_type": "execute_result",
          "data": {
            "text/plain": [
              "<matplotlib.axes._subplots.AxesSubplot at 0x7fc8d5cd94c0>"
            ]
          },
          "metadata": {},
          "execution_count": 153
        },
        {
          "output_type": "display_data",
          "data": {
            "text/plain": [
              "<Figure size 864x432 with 1 Axes>"
            ],
            "image/png": "[encoded data removed]"
          },
          "metadata": {}
        }
      ],
      "source": [
        "df_month=PM25.loc[:,['Month','PM2.5']]\n",
        "#sns.boxplot(x='Month', y='PM2.5',data=df_month,palette='bwr')\n",
        "sns.set_style('whitegrid')\n",
        "sns.violinplot(x='Month', y='PM2.5',data=df_month,palette='bwr')"
      ]
    },
    {
      "cell_type": "code",
      "execution_count": 106,
      "metadata": {
        "colab": {
          "base_uri": "https://localhost:8080/"
        },
        "id": "vQrMy3Z0MszK",
        "outputId": "08b579d8-16fa-4f38-9003-4407a0842c3e"
      },
      "outputs": [
        {
          "output_type": "execute_result",
          "data": {
            "text/plain": [
              "PM2.5    0\n",
              "dtype: int64"
            ]
          },
          "metadata": {},
          "execution_count": 106
        }
      ],
      "source": [
        "df_date=PM25[['PM2.5']]\n",
        "df_date.shape\n",
        "df_date.isnull().sum()"
      ]
    },
    {
      "cell_type": "code",
      "execution_count": 107,
      "metadata": {
        "colab": {
          "base_uri": "https://localhost:8080/"
        },
        "id": "rk7VWeeQ4u-5",
        "outputId": "a5b1137e-0b1c-4d66-bb75-2d97bb8a524b"
      },
      "outputs": [
        {
          "output_type": "stream",
          "name": "stderr",
          "text": [
            "/usr/local/lib/python3.8/dist-packages/pandas/core/frame.py:4906: SettingWithCopyWarning: \n",
            "A value is trying to be set on a copy of a slice from a DataFrame\n",
            "\n",
            "See the caveats in the documentation: https://pandas.pydata.org/pandas-docs/stable/user_guide/indexing.html#returning-a-view-versus-a-copy\n",
            "  return super().drop(\n"
          ]
        }
      ],
      "source": [
        "def drop_outliers(df,field_name):\n",
        "  iqr=1.5*(np.percentile(df[field_name],75)-np.percentile(df[field_name],25))\n",
        "  df.drop(df[df[field_name]>(iqr + np.percentile(df[field_name],75))].index,inplace=True)\n",
        "  df.drop(df[df[field_name]<(np.percentile(df[field_name],25) - iqr)].index,inplace=True)\n",
        "drop_outliers(df_date,'PM2.5')"
      ]
    },
    {
      "cell_type": "code",
      "execution_count": 109,
      "metadata": {
        "colab": {
          "base_uri": "https://localhost:8080/"
        },
        "id": "k0MUt3ugHY5H",
        "outputId": "ce15a923-2750-4236-d20e-79f2b39162fd"
      },
      "outputs": [
        {
          "output_type": "execute_result",
          "data": {
            "text/plain": [
              "35311"
            ]
          },
          "metadata": {},
          "execution_count": 109
        }
      ],
      "source": [
        "#spliting data\n",
        "import math\n",
        "\n",
        "dataset  = df_date.to_numpy()\n",
        "#dataset=dataset.astype(float)\n",
        "training_data_len = math.ceil(len(dataset)*.8)\n",
        "training_data_len\n",
        "#dataset['pm2.5'].fillna(0, inplace=True)"
      ]
    },
    {
      "cell_type": "code",
      "execution_count": 110,
      "metadata": {
        "colab": {
          "base_uri": "https://localhost:8080/"
        },
        "id": "aJ4ibu8sIqIw",
        "outputId": "b1215dff-5020-4d7f-8172-a815d54314bc"
      },
      "outputs": [
        {
          "output_type": "execute_result",
          "data": {
            "text/plain": [
              "(44138, 1)"
            ]
          },
          "metadata": {},
          "execution_count": 110
        }
      ],
      "source": [
        "from sklearn.preprocessing import StandardScaler#PowerTransformer#\n",
        "sc = MinMaxScaler(feature_range=(0,1))\n",
        "#sc = PowerTransformer()\n",
        "#sc= StandardScaler()\n",
        "scaled_data = sc.fit_transform(dataset)\n",
        "scaled_data.shape"
      ]
    },
    {
      "cell_type": "code",
      "source": [
        "max(dataset)"
      ],
      "metadata": {
        "colab": {
          "base_uri": "https://localhost:8080/"
        },
        "id": "HR5M7WNZfbA4",
        "outputId": "e372b999-1120-4363-9e0a-4c6871627555"
      },
      "execution_count": 111,
      "outputs": [
        {
          "output_type": "execute_result",
          "data": {
            "text/plain": [
              "array([107.61])"
            ]
          },
          "metadata": {},
          "execution_count": 111
        }
      ]
    },
    {
      "cell_type": "code",
      "execution_count": 113,
      "metadata": {
        "id": "JZD3kXhPJeiK"
      },
      "outputs": [],
      "source": [
        "#Creating a window for previous data\n",
        "def to_supervised(train):\n",
        "  window_size = 4\n",
        "  X = []\n",
        "  Y = []\n",
        "  for i in range(window_size, len(train)):\n",
        "    X.append(train[i-window_size:i,:])\n",
        "    Y.append(train[i,0:1])\n",
        "    \n",
        "  return X,Y"
      ]
    },
    {
      "cell_type": "code",
      "source": [
        "train_data = scaled_data[0:training_data_len, :]\n",
        "X, Y = to_supervised(train_data)\n",
        "X = np.array(X)\n",
        "Y = np.array(Y)\n",
        "print('Y' ,Y.shape)\n",
        "print('X' ,X.shape)"
      ],
      "metadata": {
        "colab": {
          "base_uri": "https://localhost:8080/"
        },
        "id": "m0CMvJAt6PaY",
        "outputId": "0be33ca0-2f06-4fab-a6a7-d8f9f05f3174"
      },
      "execution_count": 114,
      "outputs": [
        {
          "output_type": "stream",
          "name": "stdout",
          "text": [
            "Y (35307, 1)\n",
            "X (35307, 4, 1)\n"
          ]
        }
      ]
    },
    {
      "cell_type": "code",
      "source": [
        "#Splitting the dataset\n",
        "n_train = 24*365\n",
        "X_train, X_test = X[n_train:,] , X[:n_train,]\n",
        "print('X_train' ,X_train.shape)\n",
        "print('X_test' ,X_test.shape)\n",
        "\n",
        "Y_train, Y_test = Y[n_train:,] , Y[:n_train,]\n",
        "print('Y_train' ,Y_train.shape)\n",
        "print('Y_test' ,Y_test.shape)\n",
        "     \n"
      ],
      "metadata": {
        "colab": {
          "base_uri": "https://localhost:8080/"
        },
        "id": "OsUtVyhV59jY",
        "outputId": "1cb6a0bb-810b-4ebb-b874-bb6503e1303e"
      },
      "execution_count": 129,
      "outputs": [
        {
          "output_type": "stream",
          "name": "stdout",
          "text": [
            "X_train (26547, 4, 1)\n",
            "X_test (8760, 4, 1)\n",
            "Y_train (26547, 1)\n",
            "Y_test (8760, 1)\n"
          ]
        }
      ]
    },
    {
      "cell_type": "code",
      "source": [
        "#from sklearn.model_selection import train_test_split\n",
        "#train, valid, Y_train, Y_valid = train_test_split(x_train, y_train, test_size=0.10, random_state=0)"
      ],
      "metadata": {
        "id": "YHnMMkQUyUE0"
      },
      "execution_count": 130,
      "outputs": []
    },
    {
      "cell_type": "code",
      "execution_count": 131,
      "metadata": {
        "id": "WY7MtsXgJ7yT"
      },
      "outputs": [],
      "source": [
        "#x_train, y_train = np.array(x_train), np.array(y_train)\n",
        "#x_train = np.reshape(x_train, (x_train.shape[0],x_train.shape[1],1))"
      ]
    },
    {
      "cell_type": "code",
      "source": [
        "#Importing LSTM model\n",
        "from keras.models import Sequential\n",
        "from keras.layers import Dense, Dropout,LSTM\n",
        "model = Sequential()\n",
        "\n",
        "model.add(LSTM(units = 50,activation='relu', return_sequences = True, input_shape=(X_train.shape[1], X_train.shape[2])))\n",
        "model.add(Dropout(0.2))\n",
        "\n",
        "model.add(LSTM(units = 50,activation='relu', return_sequences = True))\n",
        "model.add(Dropout(0.2))\n",
        "\n",
        "model.add(LSTM(units = 50,activation='relu'))\n",
        "model.add(Dropout(0.2))\n",
        "\n",
        "model.add(Dense(units = 1))\n",
        "\n",
        "model.compile(optimizer = 'adam', loss = 'mean_squared_error') \n",
        "#Train the model\n",
        "model.fit(X_train, Y_train, epochs = 20, batch_size = 32)"
      ],
      "metadata": {
        "colab": {
          "base_uri": "https://localhost:8080/"
        },
        "id": "cpwEJcGeAL9L",
        "outputId": "27729e09-ee24-4b29-cbba-598f418cb234"
      },
      "execution_count": 133,
      "outputs": [
        {
          "output_type": "stream",
          "name": "stdout",
          "text": [
            "Epoch 1/20\n",
            "830/830 [==============================] - 14s 11ms/step - loss: 0.0211\n",
            "Epoch 2/20\n",
            "830/830 [==============================] - 9s 11ms/step - loss: 0.0125\n",
            "Epoch 3/20\n",
            "830/830 [==============================] - 9s 11ms/step - loss: 0.0113\n",
            "Epoch 4/20\n",
            "830/830 [==============================] - 8s 10ms/step - loss: 0.0109\n",
            "Epoch 5/20\n",
            "830/830 [==============================] - 8s 10ms/step - loss: 0.0104\n",
            "Epoch 6/20\n",
            "830/830 [==============================] - 9s 10ms/step - loss: 0.0103\n",
            "Epoch 7/20\n",
            "830/830 [==============================] - 8s 10ms/step - loss: 0.0101\n",
            "Epoch 8/20\n",
            "830/830 [==============================] - 8s 10ms/step - loss: 0.0100\n",
            "Epoch 9/20\n",
            "830/830 [==============================] - 8s 10ms/step - loss: 0.0098\n",
            "Epoch 10/20\n",
            "830/830 [==============================] - 8s 10ms/step - loss: 0.0098\n",
            "Epoch 11/20\n",
            "830/830 [==============================] - 8s 10ms/step - loss: 0.0097\n",
            "Epoch 12/20\n",
            "830/830 [==============================] - 8s 10ms/step - loss: 0.0097\n",
            "Epoch 13/20\n",
            "830/830 [==============================] - 8s 10ms/step - loss: 0.0097\n",
            "Epoch 14/20\n",
            "830/830 [==============================] - 9s 10ms/step - loss: 0.0096\n",
            "Epoch 15/20\n",
            "830/830 [==============================] - 9s 11ms/step - loss: 0.0096\n",
            "Epoch 16/20\n",
            "830/830 [==============================] - 9s 10ms/step - loss: 0.0095\n",
            "Epoch 17/20\n",
            "830/830 [==============================] - 8s 10ms/step - loss: 0.0095\n",
            "Epoch 18/20\n",
            "830/830 [==============================] - 8s 10ms/step - loss: 0.0095\n",
            "Epoch 19/20\n",
            "830/830 [==============================] - 9s 10ms/step - loss: 0.0094\n",
            "Epoch 20/20\n",
            "830/830 [==============================] - 8s 10ms/step - loss: 0.0095\n"
          ]
        },
        {
          "output_type": "execute_result",
          "data": {
            "text/plain": [
              "<keras.callbacks.History at 0x7fc8d332d610>"
            ]
          },
          "metadata": {},
          "execution_count": 133
        }
      ]
    },
    {
      "cell_type": "markdown",
      "source": [
        "```\n",
        "model = Sequential()\n",
        "model.add(LSTM(100,activation='relu', dropout=0.2, return_sequences=True, input_shape=(x_train.shape[1],1)))\n",
        "model.add(LSTM(60, activation='relu',return_sequences=False))\n",
        "model.add(Dense(25))\n",
        "model.add(Dense(1))\n",
        "\n",
        "\n",
        "# This is formatted as code\n",
        "```\n",
        "\n"
      ],
      "metadata": {
        "id": "bI2pnE5Iou4s"
      }
    },
    {
      "cell_type": "code",
      "execution_count": 134,
      "metadata": {
        "id": "FU8Re5oQ4LeU",
        "colab": {
          "base_uri": "https://localhost:8080/"
        },
        "outputId": "49b3b6c0-27c0-4c55-a71a-e4501a187a0c"
      },
      "outputs": [
        {
          "output_type": "stream",
          "name": "stdout",
          "text": [
            "Model: \"sequential_2\"\n",
            "_________________________________________________________________\n",
            " Layer (type)                Output Shape              Param #   \n",
            "=================================================================\n",
            " lstm_6 (LSTM)               (None, 4, 50)             10400     \n",
            "                                                                 \n",
            " dropout_6 (Dropout)         (None, 4, 50)             0         \n",
            "                                                                 \n",
            " lstm_7 (LSTM)               (None, 4, 50)             20200     \n",
            "                                                                 \n",
            " dropout_7 (Dropout)         (None, 4, 50)             0         \n",
            "                                                                 \n",
            " lstm_8 (LSTM)               (None, 50)                20200     \n",
            "                                                                 \n",
            " dropout_8 (Dropout)         (None, 50)                0         \n",
            "                                                                 \n",
            " dense_2 (Dense)             (None, 1)                 51        \n",
            "                                                                 \n",
            "=================================================================\n",
            "Total params: 50,851\n",
            "Trainable params: 50,851\n",
            "Non-trainable params: 0\n",
            "_________________________________________________________________\n",
            "None\n"
          ]
        }
      ],
      "source": [
        "print(model.summary())"
      ]
    },
    {
      "cell_type": "code",
      "execution_count": 135,
      "metadata": {
        "id": "dp8yRPUzeXmQ",
        "colab": {
          "base_uri": "https://localhost:8080/"
        },
        "outputId": "1d38c680-ff97-4027-c0bf-fdce779016ed"
      },
      "outputs": [
        {
          "output_type": "stream",
          "name": "stdout",
          "text": [
            "274/274 [==============================] - 1s 3ms/step\n"
          ]
        },
        {
          "output_type": "execute_result",
          "data": {
            "text/plain": [
              "0.11465345327654429"
            ]
          },
          "metadata": {},
          "execution_count": 135
        }
      ],
      "source": [
        "\n",
        "#Taking predictions\n",
        "Y_pred = model.predict(X_test)\n",
        "\n",
        "from sklearn.metrics import mean_squared_error\n",
        "mse = mean_squared_error(Y_test, Y_pred)\n",
        "\n",
        "rmse = np.sqrt(mse)\n",
        "rmse"
      ]
    },
    {
      "cell_type": "code",
      "execution_count": 136,
      "metadata": {
        "id": "tCRA4FqTemVr",
        "colab": {
          "base_uri": "https://localhost:8080/"
        },
        "outputId": "7eb1bd74-85a6-4d6f-d2d8-a334d6795f89"
      },
      "outputs": [
        {
          "output_type": "stream",
          "name": "stdout",
          "text": [
            "y_predicted (8760, 1)\n",
            "X_test (8760, 4, 1)\n",
            "scaled Values shape (44138, 1)\n"
          ]
        }
      ],
      "source": [
        "#Y_predicted = scaler.inverse_transform(Y_pred)\n",
        "print('y_predicted',Y_pred.shape)\n",
        "#print('X_train' ,X_train.shape)\n",
        "print('X_test' ,X_test.shape)\n",
        "print('scaled Values shape', scaled_data.shape)"
      ]
    },
    {
      "cell_type": "code",
      "execution_count": 137,
      "metadata": {
        "id": "JulyUM8neqg4",
        "colab": {
          "base_uri": "https://localhost:8080/"
        },
        "outputId": "70292510-dec7-446b-944f-1b743d8276aa"
      },
      "outputs": [
        {
          "output_type": "stream",
          "name": "stdout",
          "text": [
            "dummy (8760, 1)\n",
            "Y_pred (8760, 1)\n",
            "concat y_pred (8760, 1)\n",
            "concat Y_test (8760, 1)\n"
          ]
        }
      ],
      "source": [
        "#Scaling back to the original scale\n",
        "d = scaled_data[:len(Y_pred),:]\n",
        "print('dummy',d.shape)\n",
        "print('Y_pred',Y_pred.shape)\n",
        "Y_predicted = np.concatenate((Y_pred,d[:len(Y_pred),1:]), axis =1)\n",
        "print('concat y_pred',Y_pred.shape)\n",
        "Y_tested = np.concatenate((Y_test, d[:len(Y_pred),1:]), axis = 1)\n",
        "print('concat Y_test', Y_test.shape)\n",
        "     \n"
      ]
    },
    {
      "cell_type": "code",
      "execution_count": 138,
      "metadata": {
        "id": "2CPS91wZeuwd",
        "colab": {
          "base_uri": "https://localhost:8080/"
        },
        "outputId": "cb6de507-f05b-4193-cb3e-2d0f062308d3"
      },
      "outputs": [
        {
          "output_type": "stream",
          "name": "stdout",
          "text": [
            "Y_tested (8760, 1)\n",
            "Y_predicted (8760, 1)\n"
          ]
        }
      ],
      "source": [
        "#Take inverse transform\n",
        "Y_predicted = sc.inverse_transform(Y_predicted)\n",
        "Y_tested = sc.inverse_transform(Y_tested)\n",
        "Y_predicted = Y_predicted[:,0:1]\n",
        "Y_tested = Y_tested[:,0:1]\n",
        "print('Y_tested', Y_tested.shape)\n",
        "print('Y_predicted', Y_predicted.shape)"
      ]
    },
    {
      "cell_type": "code",
      "execution_count": 139,
      "metadata": {
        "id": "-IU_bQ2Tezqq",
        "colab": {
          "base_uri": "https://localhost:8080/"
        },
        "outputId": "12e82287-d53c-4952-e282-1b82ce1ee742"
      },
      "outputs": [
        {
          "output_type": "execute_result",
          "data": {
            "text/plain": [
              "12.334418503490635"
            ]
          },
          "metadata": {},
          "execution_count": 139
        }
      ],
      "source": [
        "\n",
        "#Calculate error\n",
        "from sklearn.metrics import mean_squared_error\n",
        "mse = mean_squared_error(Y_tested, Y_predicted)\n",
        "\n",
        "rmse = np.sqrt(mse)\n",
        "rmse"
      ]
    },
    {
      "cell_type": "code",
      "execution_count": 143,
      "metadata": {
        "id": "I4ptdWNZe4PA",
        "colab": {
          "base_uri": "https://localhost:8080/",
          "height": 433
        },
        "outputId": "eea3c9d9-1459-48dd-c4c2-ca1769f41e0b"
      },
      "outputs": [
        {
          "output_type": "display_data",
          "data": {
            "text/plain": [
              "<Figure size 864x432 with 1 Axes>"
            ],
            "image/png": "[encoded data removed]"
          },
          "metadata": {}
        }
      ],
      "source": [
        "#Plot the graph between actual vs predicted values\n",
        "plt.plot(Y_predicted[:100,:], color= 'green')\n",
        "plt.plot(Y_tested[:100,:] , color = 'red')\n",
        "plt.title(\"Air Pollution Prediction (Multivariate)\")\n",
        "plt.xlabel(\"Date\")\n",
        "plt.ylabel(\"Pollution level\")\n",
        "plt.show()"
      ]
    },
    {
      "cell_type": "code",
      "source": [
        "def mean_absolute_percentage_error(y_true, y_pred): \n",
        "    y_true, y_pred = np.array(y_true), np.array(y_pred)\n",
        "    return np.mean(np.abs((y_true - y_pred) / y_true)) * 100\n",
        "\n",
        "mape = mean_absolute_percentage_error(Y_tested, Y_predicted)\n",
        "print('MAPE', mape)\n",
        "     "
      ],
      "metadata": {
        "colab": {
          "base_uri": "https://localhost:8080/"
        },
        "id": "TYikaUL50Zbj",
        "outputId": "dbbe2b10-62d9-44c0-9278-7163bbd13939"
      },
      "execution_count": 141,
      "outputs": [
        {
          "output_type": "stream",
          "name": "stdout",
          "text": [
            "MAPE 44.51965858760856\n"
          ]
        }
      ]
    },
    {
      "cell_type": "code",
      "source": [
        "from sklearn.metrics import mean_squared_error\n",
        "mse = mean_squared_error(Y_tested, Y_predicted)\n",
        "#print('Mean squared error', mse)\n",
        "print('RMSE' , np.sqrt(mse))\n",
        "print(\"Mean of Test data \", np.mean(Y_tested))"
      ],
      "metadata": {
        "colab": {
          "base_uri": "https://localhost:8080/"
        },
        "id": "J9DZMYtH_6Gb",
        "outputId": "7a3f0241-4b29-403d-c290-31b691280a16"
      },
      "execution_count": 142,
      "outputs": [
        {
          "output_type": "stream",
          "name": "stdout",
          "text": [
            "RMSE 12.334418503490635\n",
            "Mean of Test data  48.48391324200914\n"
          ]
        }
      ]
    },
    {
      "cell_type": "code",
      "source": [
        "model.save(\"model.h5\")\n",
        "print(\"Saved model to disk\")"
      ],
      "metadata": {
        "colab": {
          "base_uri": "https://localhost:8080/"
        },
        "id": "pAu3xwh5ztBV",
        "outputId": "397c0174-671c-4d36-e82a-5060f92c5550"
      },
      "execution_count": 154,
      "outputs": [
        {
          "output_type": "stream",
          "name": "stdout",
          "text": [
            "Saved model to disk\n"
          ]
        }
      ]
    }
  ],
  "metadata": {
    "colab": {
      "provenance": [],
      "mount_file_id": "1_alkDa7SDlVbCv8SaTinGlCr7SQWdazL",
      "authorship_tag": "ABX9TyPEWe+u7rALtMYwO6fv91cP",
      "include_colab_link": true
    },
    "kernelspec": {
      "display_name": "Python 3",
      "name": "python3"
    },
    "language_info": {
      "name": "python"
    }
  },
  "nbformat": 4,
  "nbformat_minor": 0
}